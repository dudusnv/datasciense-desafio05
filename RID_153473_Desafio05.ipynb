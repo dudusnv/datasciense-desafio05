{
  "nbformat": 4,
  "nbformat_minor": 0,
  "metadata": {
    "colab": {
      "provenance": [],
      "include_colab_link": true
    },
    "kernelspec": {
      "name": "python3",
      "display_name": "Python 3"
    },
    "language_info": {
      "name": "python"
    }
  },
  "cells": [
    {
      "cell_type": "markdown",
      "metadata": {
        "id": "view-in-github",
        "colab_type": "text"
      },
      "source": [
        "<a href=\"https://colab.research.google.com/github/dudusnv/datasciense-desafio05/blob/main/RID_153473_Desafio05.ipynb\" target=\"_parent\"><img src=\"https://colab.research.google.com/assets/colab-badge.svg\" alt=\"Open In Colab\"/></a>"
      ]
    },
    {
      "cell_type": "markdown",
      "source": [
        "Etapa 1- IMPORTANDO BIBLIOTECA"
      ],
      "metadata": {
        "id": "yrfd70evaEHz"
      }
    },
    {
      "cell_type": "code",
      "source": [
        "import pandas as pd\n",
        "import matplotlib.pyplot as plt\n",
        "from google.colab import files"
      ],
      "metadata": {
        "id": "VSEOvBalPGu5"
      },
      "execution_count": null,
      "outputs": []
    },
    {
      "cell_type": "markdown",
      "source": [
        "Etapa 2 - UPLOAD DO ARQUIVO"
      ],
      "metadata": {
        "id": "_4Qz3OsSkVy1"
      }
    },
    {
      "cell_type": "code",
      "source": [
        "def carregar_dataset():\n",
        "    print(\"Faça o upload do seu arquivo CSV:\")\n",
        "    uploaded = files.upload()\n",
        "\n",
        "    # Obtendo o nome do arquivo carregado\n",
        "    for filename in uploaded.keys():\n",
        "        print(f\"Arquivo {filename} carregado com sucesso!\")\n",
        "\n",
        "        # Lendo o arquivo em um DataFrame\n",
        "        try:\n",
        "            df = pd.read_csv(filename, encoding='utf-8')  # Tenta carregar com encoding utf-8\n",
        "        except UnicodeDecodeError:\n",
        "            print(\"Erro de encoding com UTF-8. Tentando com 'latin1'...\")\n",
        "            df = pd.read_csv(filename, encoding='latin1')  # Alternativa para problemas de encoding\n",
        "\n",
        "        return df\n",
        "\n",
        "\n"
      ],
      "metadata": {
        "id": "wLZo4t5kkSrT"
      },
      "execution_count": null,
      "outputs": []
    },
    {
      "cell_type": "markdown",
      "source": [
        "Etapa 3 - CARREGANDO DATA SET"
      ],
      "metadata": {
        "id": "1w_47LdPZKTH"
      }
    },
    {
      "cell_type": "code",
      "source": [
        "df = carregar_dataset()\n",
        "\n",
        "# Verificar se o dataset foi carregado antes de acessar o DataFrame\n",
        "if df is not None:\n",
        "    print(\"Visualizando as primeiras linhas do DataFrame:\")\n",
        "    print(df.head())\n",
        "else:\n",
        "    print(\"O DataFrame não foi carregado. Verifique o arquivo e tente novamente.\")"
      ],
      "metadata": {
        "colab": {
          "base_uri": "https://localhost:8080/",
          "height": 380
        },
        "id": "mVt_bE6cZFsG",
        "outputId": "7e745b43-3551-403a-c055-ac84206d4932"
      },
      "execution_count": null,
      "outputs": [
        {
          "output_type": "stream",
          "name": "stdout",
          "text": [
            "Faça o upload do seu arquivo CSV:\n"
          ]
        },
        {
          "output_type": "display_data",
          "data": {
            "text/plain": [
              "<IPython.core.display.HTML object>"
            ],
            "text/html": [
              "\n",
              "     <input type=\"file\" id=\"files-f92d3b13-1fbf-438e-afce-cba95c1249bd\" name=\"files[]\" multiple disabled\n",
              "        style=\"border:none\" />\n",
              "     <output id=\"result-f92d3b13-1fbf-438e-afce-cba95c1249bd\">\n",
              "      Upload widget is only available when the cell has been executed in the\n",
              "      current browser session. Please rerun this cell to enable.\n",
              "      </output>\n",
              "      <script>// Copyright 2017 Google LLC\n",
              "//\n",
              "// Licensed under the Apache License, Version 2.0 (the \"License\");\n",
              "// you may not use this file except in compliance with the License.\n",
              "// You may obtain a copy of the License at\n",
              "//\n",
              "//      http://www.apache.org/licenses/LICENSE-2.0\n",
              "//\n",
              "// Unless required by applicable law or agreed to in writing, software\n",
              "// distributed under the License is distributed on an \"AS IS\" BASIS,\n",
              "// WITHOUT WARRANTIES OR CONDITIONS OF ANY KIND, either express or implied.\n",
              "// See the License for the specific language governing permissions and\n",
              "// limitations under the License.\n",
              "\n",
              "/**\n",
              " * @fileoverview Helpers for google.colab Python module.\n",
              " */\n",
              "(function(scope) {\n",
              "function span(text, styleAttributes = {}) {\n",
              "  const element = document.createElement('span');\n",
              "  element.textContent = text;\n",
              "  for (const key of Object.keys(styleAttributes)) {\n",
              "    element.style[key] = styleAttributes[key];\n",
              "  }\n",
              "  return element;\n",
              "}\n",
              "\n",
              "// Max number of bytes which will be uploaded at a time.\n",
              "const MAX_PAYLOAD_SIZE = 100 * 1024;\n",
              "\n",
              "function _uploadFiles(inputId, outputId) {\n",
              "  const steps = uploadFilesStep(inputId, outputId);\n",
              "  const outputElement = document.getElementById(outputId);\n",
              "  // Cache steps on the outputElement to make it available for the next call\n",
              "  // to uploadFilesContinue from Python.\n",
              "  outputElement.steps = steps;\n",
              "\n",
              "  return _uploadFilesContinue(outputId);\n",
              "}\n",
              "\n",
              "// This is roughly an async generator (not supported in the browser yet),\n",
              "// where there are multiple asynchronous steps and the Python side is going\n",
              "// to poll for completion of each step.\n",
              "// This uses a Promise to block the python side on completion of each step,\n",
              "// then passes the result of the previous step as the input to the next step.\n",
              "function _uploadFilesContinue(outputId) {\n",
              "  const outputElement = document.getElementById(outputId);\n",
              "  const steps = outputElement.steps;\n",
              "\n",
              "  const next = steps.next(outputElement.lastPromiseValue);\n",
              "  return Promise.resolve(next.value.promise).then((value) => {\n",
              "    // Cache the last promise value to make it available to the next\n",
              "    // step of the generator.\n",
              "    outputElement.lastPromiseValue = value;\n",
              "    return next.value.response;\n",
              "  });\n",
              "}\n",
              "\n",
              "/**\n",
              " * Generator function which is called between each async step of the upload\n",
              " * process.\n",
              " * @param {string} inputId Element ID of the input file picker element.\n",
              " * @param {string} outputId Element ID of the output display.\n",
              " * @return {!Iterable<!Object>} Iterable of next steps.\n",
              " */\n",
              "function* uploadFilesStep(inputId, outputId) {\n",
              "  const inputElement = document.getElementById(inputId);\n",
              "  inputElement.disabled = false;\n",
              "\n",
              "  const outputElement = document.getElementById(outputId);\n",
              "  outputElement.innerHTML = '';\n",
              "\n",
              "  const pickedPromise = new Promise((resolve) => {\n",
              "    inputElement.addEventListener('change', (e) => {\n",
              "      resolve(e.target.files);\n",
              "    });\n",
              "  });\n",
              "\n",
              "  const cancel = document.createElement('button');\n",
              "  inputElement.parentElement.appendChild(cancel);\n",
              "  cancel.textContent = 'Cancel upload';\n",
              "  const cancelPromise = new Promise((resolve) => {\n",
              "    cancel.onclick = () => {\n",
              "      resolve(null);\n",
              "    };\n",
              "  });\n",
              "\n",
              "  // Wait for the user to pick the files.\n",
              "  const files = yield {\n",
              "    promise: Promise.race([pickedPromise, cancelPromise]),\n",
              "    response: {\n",
              "      action: 'starting',\n",
              "    }\n",
              "  };\n",
              "\n",
              "  cancel.remove();\n",
              "\n",
              "  // Disable the input element since further picks are not allowed.\n",
              "  inputElement.disabled = true;\n",
              "\n",
              "  if (!files) {\n",
              "    return {\n",
              "      response: {\n",
              "        action: 'complete',\n",
              "      }\n",
              "    };\n",
              "  }\n",
              "\n",
              "  for (const file of files) {\n",
              "    const li = document.createElement('li');\n",
              "    li.append(span(file.name, {fontWeight: 'bold'}));\n",
              "    li.append(span(\n",
              "        `(${file.type || 'n/a'}) - ${file.size} bytes, ` +\n",
              "        `last modified: ${\n",
              "            file.lastModifiedDate ? file.lastModifiedDate.toLocaleDateString() :\n",
              "                                    'n/a'} - `));\n",
              "    const percent = span('0% done');\n",
              "    li.appendChild(percent);\n",
              "\n",
              "    outputElement.appendChild(li);\n",
              "\n",
              "    const fileDataPromise = new Promise((resolve) => {\n",
              "      const reader = new FileReader();\n",
              "      reader.onload = (e) => {\n",
              "        resolve(e.target.result);\n",
              "      };\n",
              "      reader.readAsArrayBuffer(file);\n",
              "    });\n",
              "    // Wait for the data to be ready.\n",
              "    let fileData = yield {\n",
              "      promise: fileDataPromise,\n",
              "      response: {\n",
              "        action: 'continue',\n",
              "      }\n",
              "    };\n",
              "\n",
              "    // Use a chunked sending to avoid message size limits. See b/62115660.\n",
              "    let position = 0;\n",
              "    do {\n",
              "      const length = Math.min(fileData.byteLength - position, MAX_PAYLOAD_SIZE);\n",
              "      const chunk = new Uint8Array(fileData, position, length);\n",
              "      position += length;\n",
              "\n",
              "      const base64 = btoa(String.fromCharCode.apply(null, chunk));\n",
              "      yield {\n",
              "        response: {\n",
              "          action: 'append',\n",
              "          file: file.name,\n",
              "          data: base64,\n",
              "        },\n",
              "      };\n",
              "\n",
              "      let percentDone = fileData.byteLength === 0 ?\n",
              "          100 :\n",
              "          Math.round((position / fileData.byteLength) * 100);\n",
              "      percent.textContent = `${percentDone}% done`;\n",
              "\n",
              "    } while (position < fileData.byteLength);\n",
              "  }\n",
              "\n",
              "  // All done.\n",
              "  yield {\n",
              "    response: {\n",
              "      action: 'complete',\n",
              "    }\n",
              "  };\n",
              "}\n",
              "\n",
              "scope.google = scope.google || {};\n",
              "scope.google.colab = scope.google.colab || {};\n",
              "scope.google.colab._files = {\n",
              "  _uploadFiles,\n",
              "  _uploadFilesContinue,\n",
              "};\n",
              "})(self);\n",
              "</script> "
            ]
          },
          "metadata": {}
        },
        {
          "output_type": "stream",
          "name": "stdout",
          "text": [
            "Saving data.csv to data (2).csv\n",
            "Arquivo data (2).csv carregado com sucesso!\n",
            "Erro de encoding com UTF-8. Tentando com 'latin1'...\n",
            "Visualizando as primeiras linhas do DataFrame:\n",
            "  InvoiceNo StockCode                          Description  Quantity  \\\n",
            "0    536365    85123A   WHITE HANGING HEART T-LIGHT HOLDER         6   \n",
            "1    536365     71053                  WHITE METAL LANTERN         6   \n",
            "2    536365    84406B       CREAM CUPID HEARTS COAT HANGER         8   \n",
            "3    536365    84029G  KNITTED UNION FLAG HOT WATER BOTTLE         6   \n",
            "4    536365    84029E       RED WOOLLY HOTTIE WHITE HEART.         6   \n",
            "\n",
            "      InvoiceDate  UnitPrice  CustomerID         Country  \n",
            "0  12/1/2010 8:26       2.55     17850.0  United Kingdom  \n",
            "1  12/1/2010 8:26       3.39     17850.0  United Kingdom  \n",
            "2  12/1/2010 8:26       2.75     17850.0  United Kingdom  \n",
            "3  12/1/2010 8:26       3.39     17850.0  United Kingdom  \n",
            "4  12/1/2010 8:26       3.39     17850.0  United Kingdom  \n"
          ]
        }
      ]
    },
    {
      "cell_type": "markdown",
      "source": [
        "Etapa 4 - INSPECIONANDO  OS DADOS"
      ],
      "metadata": {
        "id": "gOvRtylvZpRV"
      }
    },
    {
      "cell_type": "code",
      "source": [
        "# Visualizando as primeiras linhas\n",
        "print(df.head())\n",
        "\n",
        "# Resumo estatístico das colunas numéricas\n",
        "print(df.describe())\n",
        "\n",
        "# Tipos de dados das colunas\n",
        "print(df.info())"
      ],
      "metadata": {
        "colab": {
          "base_uri": "https://localhost:8080/"
        },
        "id": "UJ8pztKmZk78",
        "outputId": "8f2e7652-d12b-4ca1-93ad-5e0e7bb5aa51"
      },
      "execution_count": null,
      "outputs": [
        {
          "output_type": "stream",
          "name": "stdout",
          "text": [
            "  InvoiceNo StockCode                          Description  Quantity  \\\n",
            "0    536365    85123A   WHITE HANGING HEART T-LIGHT HOLDER         6   \n",
            "1    536365     71053                  WHITE METAL LANTERN         6   \n",
            "2    536365    84406B       CREAM CUPID HEARTS COAT HANGER         8   \n",
            "3    536365    84029G  KNITTED UNION FLAG HOT WATER BOTTLE         6   \n",
            "4    536365    84029E       RED WOOLLY HOTTIE WHITE HEART.         6   \n",
            "\n",
            "      InvoiceDate  UnitPrice  CustomerID         Country  \n",
            "0  12/1/2010 8:26       2.55     17850.0  United Kingdom  \n",
            "1  12/1/2010 8:26       3.39     17850.0  United Kingdom  \n",
            "2  12/1/2010 8:26       2.75     17850.0  United Kingdom  \n",
            "3  12/1/2010 8:26       3.39     17850.0  United Kingdom  \n",
            "4  12/1/2010 8:26       3.39     17850.0  United Kingdom  \n",
            "            Quantity      UnitPrice     CustomerID\n",
            "count  541909.000000  541909.000000  406829.000000\n",
            "mean        9.552250       4.611114   15287.690570\n",
            "std       218.081158      96.759853    1713.600303\n",
            "min    -80995.000000  -11062.060000   12346.000000\n",
            "25%         1.000000       1.250000   13953.000000\n",
            "50%         3.000000       2.080000   15152.000000\n",
            "75%        10.000000       4.130000   16791.000000\n",
            "max     80995.000000   38970.000000   18287.000000\n",
            "<class 'pandas.core.frame.DataFrame'>\n",
            "RangeIndex: 541909 entries, 0 to 541908\n",
            "Data columns (total 8 columns):\n",
            " #   Column       Non-Null Count   Dtype  \n",
            "---  ------       --------------   -----  \n",
            " 0   InvoiceNo    541909 non-null  object \n",
            " 1   StockCode    541909 non-null  object \n",
            " 2   Description  540455 non-null  object \n",
            " 3   Quantity     541909 non-null  int64  \n",
            " 4   InvoiceDate  541909 non-null  object \n",
            " 5   UnitPrice    541909 non-null  float64\n",
            " 6   CustomerID   406829 non-null  float64\n",
            " 7   Country      541909 non-null  object \n",
            "dtypes: float64(2), int64(1), object(5)\n",
            "memory usage: 33.1+ MB\n",
            "None\n"
          ]
        }
      ]
    },
    {
      "cell_type": "markdown",
      "source": [
        "Etapa 5 - VALORES FALTANTES NA IDENTIFICAÇÃO DO CLIENTE"
      ],
      "metadata": {
        "id": "qyNA84dXbQ6R"
      }
    },
    {
      "cell_type": "code",
      "source": [
        "# Verificando valores nulos na coluna CustomerID\n",
        "print(df['CustomerID'].isna().sum())\n",
        "\n",
        "# Removendo registros com CustomerID nulo\n",
        "df = df.dropna(subset=['CustomerID'])"
      ],
      "metadata": {
        "colab": {
          "base_uri": "https://localhost:8080/"
        },
        "id": "koV6-IYvbGkR",
        "outputId": "04e01f26-df12-4f6b-cff9-c79651d4941e"
      },
      "execution_count": null,
      "outputs": [
        {
          "output_type": "stream",
          "name": "stdout",
          "text": [
            "135080\n"
          ]
        }
      ]
    },
    {
      "cell_type": "markdown",
      "source": [
        "Etapa 6 - VERIFICANDO PREÇOS E QUANTIDADE ABAIXO OU IGUAL A ZERO"
      ],
      "metadata": {
        "id": "of4uPXr5cwKQ"
      }
    },
    {
      "cell_type": "code",
      "source": [
        "# Verificando preços unitários iguais ou abaixo de zero\n",
        "print(df[df['UnitPrice'] <= 0].shape)\n",
        "\n",
        "# Removendo os registros com UnitPrice menor ou igual a zero\n",
        "df = df[df['UnitPrice'] > 0]\n",
        "\n",
        "# Verificando quantidades iguais ou abaixo de zero\n",
        "print(df[df['Quantity'] <= 0].shape)\n",
        "\n",
        "# Removendo os registros com Quantity menor ou igual a zero\n",
        "df = df[df['Quantity'] > 0]"
      ],
      "metadata": {
        "id": "YMGmAASbZ72_",
        "colab": {
          "base_uri": "https://localhost:8080/"
        },
        "outputId": "f998a390-4b3c-41e9-b327-44afe094be98"
      },
      "execution_count": null,
      "outputs": [
        {
          "output_type": "stream",
          "name": "stdout",
          "text": [
            "(40, 8)\n",
            "(8905, 8)\n"
          ]
        }
      ]
    },
    {
      "cell_type": "markdown",
      "source": [
        "Etapa 7 - REMOVENDO LINHAS DUPLICADAS"
      ],
      "metadata": {
        "id": "X7rAWYJmdJNB"
      }
    },
    {
      "cell_type": "code",
      "source": [
        "# Verificando linhas duplicadas\n",
        "print(df.duplicated().sum())\n",
        "\n",
        "# Removendo duplicatas\n",
        "df = df.drop_duplicates()"
      ],
      "metadata": {
        "colab": {
          "base_uri": "https://localhost:8080/"
        },
        "id": "cDKVi9T_dDU-",
        "outputId": "3b9b8cfa-ec70-4fb1-f804-dbccdbd993a3"
      },
      "execution_count": null,
      "outputs": [
        {
          "output_type": "stream",
          "name": "stdout",
          "text": [
            "5192\n"
          ]
        }
      ]
    },
    {
      "cell_type": "markdown",
      "source": [
        "Etapa 8 - AJUSTANDO TIPOS DE DADOS"
      ],
      "metadata": {
        "id": "Dx3olUNmdi7R"
      }
    },
    {
      "cell_type": "code",
      "source": [
        "# Convertendo CustomerID para inteiro\n",
        "df['CustomerID'] = df['CustomerID'].astype(int)\n",
        "\n",
        "# Convertendo InvoiceDate para datetime\n",
        "df['InvoiceDate'] = pd.to_datetime(df['InvoiceDate'])"
      ],
      "metadata": {
        "id": "46uO95Exdg4w"
      },
      "execution_count": null,
      "outputs": []
    },
    {
      "cell_type": "markdown",
      "source": [
        "Etapa 9 - TRATANDO OS OUTLIERS"
      ],
      "metadata": {
        "id": "6joYN7tkdwqi"
      }
    },
    {
      "cell_type": "code",
      "source": [
        "# Removendo outliers na coluna Quantity (> 10.000)\n",
        "df = df[df['Quantity'] <= 10000]\n",
        "\n",
        "# Removendo outliers na coluna UnitPrice (> 5.000)\n",
        "df = df[df['UnitPrice'] <= 5000]"
      ],
      "metadata": {
        "id": "R27nTgwNduQs"
      },
      "execution_count": null,
      "outputs": []
    },
    {
      "cell_type": "markdown",
      "source": [
        "Etapa 10 - CRIANDO COLUNA ADICIONAL DE PREÇO TOTAL"
      ],
      "metadata": {
        "id": "P-J4p8mIeHR1"
      }
    },
    {
      "cell_type": "code",
      "source": [
        "df['TotalPrice'] = df['Quantity'] * df['UnitPrice']"
      ],
      "metadata": {
        "id": "PZl3kROAd_2J"
      },
      "execution_count": null,
      "outputs": []
    },
    {
      "cell_type": "markdown",
      "source": [],
      "metadata": {
        "id": "2L4KAuHZeoZm"
      }
    },
    {
      "cell_type": "markdown",
      "source": [
        "Etapa 11- IDENTIFICANDO ÚLTIMA DATA NO DATA SET"
      ],
      "metadata": {
        "id": "zOezxRG_etWK"
      }
    },
    {
      "cell_type": "code",
      "source": [
        "last_date = df['InvoiceDate'].max()\n",
        "print(f\"Última data no conjunto de dados: {last_date}\")"
      ],
      "metadata": {
        "colab": {
          "base_uri": "https://localhost:8080/"
        },
        "id": "i4is9H6tejFd",
        "outputId": "71694849-6279-459a-9ccb-b960f242d504"
      },
      "execution_count": null,
      "outputs": [
        {
          "output_type": "stream",
          "name": "stdout",
          "text": [
            "Última data no conjunto de dados: 2011-12-09 12:50:00\n"
          ]
        }
      ]
    },
    {
      "cell_type": "markdown",
      "source": [
        "Etapa 12 - PLOTANDO GRÁFICOS (EXEMPLO COM TOP 10 PAÍSES COM MAIOR VALOR DE VENDAS)"
      ],
      "metadata": {
        "id": "l5yJPWkNfj4z"
      }
    },
    {
      "cell_type": "code",
      "source": [
        "# Top 10 países por valor total de vendas\n",
        "top_countries = df.groupby('Country')['TotalPrice'].sum().sort_values(ascending=False).head(10)\n",
        "\n",
        "# Plotando\n",
        "plt.figure(figsize=(10, 6))\n",
        "top_countries.plot(kind='bar', color='skyblue')\n",
        "plt.title('Top 10 Países por Valor Total de Vendas')\n",
        "plt.ylabel('Valor Total de Vendas')\n",
        "plt.xlabel('País')\n",
        "plt.show()"
      ],
      "metadata": {
        "colab": {
          "base_uri": "https://localhost:8080/",
          "height": 662
        },
        "id": "IXeGxSrHe896",
        "outputId": "d12037d3-6d82-47f8-dc8f-a01b82246825"
      },
      "execution_count": null,
      "outputs": [
        {
          "output_type": "display_data",
          "data": {
            "text/plain": [
              "<Figure size 1000x600 with 1 Axes>"
            ],
            "image/png": "[encoded data removed]"
          },
          "metadata": {}
        }
      ]
    },
    {
      "cell_type": "markdown",
      "source": [
        "Etapa 13 - CALCULANDO RMF"
      ],
      "metadata": {
        "id": "9VBiinb5f8g-"
      }
    },
    {
      "cell_type": "code",
      "source": [
        "# Agrupando por cliente\n",
        "rfm_df = df.groupby('CustomerID').agg({\n",
        "    'InvoiceDate': lambda x: (last_date - x.max()).days,  # Recência\n",
        "    'InvoiceNo': 'nunique',                              # Frequência\n",
        "    'TotalPrice': 'mean'                                 # Ticket médio\n",
        "}).reset_index()\n",
        "\n",
        "# Renomeando as colunas\n",
        "rfm_df.columns = ['CustomerID', 'Recency', 'Frequency', 'Monetary']\n",
        "\n",
        "# Exportando o arquivo final\n",
        "rfm_df.to_csv('RFM_output.csv', index=False)"
      ],
      "metadata": {
        "id": "A2KsIHmNf6-U"
      },
      "execution_count": null,
      "outputs": []
    },
    {
      "cell_type": "markdown",
      "source": [],
      "metadata": {
        "id": "dTSpV0ureBAH"
      }
    }
  ]
}